{
  "cells": [
    {
      "cell_type": "markdown",
      "metadata": {
        "id": "view-in-github",
        "colab_type": "text"
      },
      "source": [
        "<a href=\"https://colab.research.google.com/github/hal2329/projeto-imersaoia/blob/main/projeto_imersaoia.ipynb\" target=\"_parent\"><img src=\"https://colab.research.google.com/assets/colab-badge.svg\" alt=\"Open In Colab\"/></a>"
      ]
    },
    {
      "cell_type": "code",
      "execution_count": 6,
      "metadata": {
        "id": "oO9024ZtVE3I"
      },
      "outputs": [],
      "source": [
        "!pip install -q -U google-generativeai"
      ]
    },
    {
      "cell_type": "code",
      "execution_count": 8,
      "metadata": {
        "id": "Jy8r2J1LVa7A"
      },
      "outputs": [],
      "source": [
        "import google.generativeai as genai\n",
        "\n",
        "from google.colab import userdata\n",
        "\n",
        "GOOGLE_API_KEY = userdata.get('API_KEY')\n",
        "genai.configure(api_key=GOOGLE_API_KEY)"
      ]
    },
    {
      "cell_type": "code",
      "execution_count": 9,
      "metadata": {
        "id": "JSdf7jiRYcEc"
      },
      "outputs": [],
      "source": [
        "generation_config = {\n",
        "  \"temperature\": 1,\n",
        "  \"top_p\": 0.95,\n",
        "  \"top_k\": 0,\n",
        "  \"max_output_tokens\": 8192,\n",
        "}\n"
      ]
    },
    {
      "cell_type": "code",
      "execution_count": 52,
      "metadata": {
        "id": "JoVr6LkMPxfu"
      },
      "outputs": [],
      "source": [
        "safety_settings = [\n",
        "  {\n",
        "    \"category\": \"HARM_CATEGORY_HARASSMENT\",\n",
        "    \"threshold\": \"BLOCK_MEDIUM_AND_ABOVE\"\n",
        "  },\n",
        "  {\n",
        "    \"category\": \"HARM_CATEGORY_HATE_SPEECH\",\n",
        "    \"threshold\": \"BLOCK_MEDIUM_AND_ABOVE\"\n",
        "  },\n",
        "  {\n",
        "    \"category\": \"HARM_CATEGORY_SEXUALLY_EXPLICIT\",\n",
        "    \"threshold\": \"BLOCK_MEDIUM_AND_ABOVE\"\n",
        "  },\n",
        "  {\n",
        "    \"category\": \"HARM_CATEGORY_DANGEROUS_CONTENT\",\n",
        "    \"threshold\": \"BLOCK_MEDIUM_AND_ABOVE\"\n",
        "  },\n",
        "]"
      ]
    },
    {
      "cell_type": "code",
      "execution_count": 57,
      "metadata": {
        "id": "ULf8nw6BaHL5"
      },
      "outputs": [],
      "source": [
        "model = genai.GenerativeModel(model_name=\"gemini-1.0-pro\",\n",
        "                              generation_config=generation_config,\n",
        "                              safety_settings=safety_settings)"
      ]
    },
    {
      "cell_type": "code",
      "source": [
        "convo = model.start_chat(history=[\n",
        "  {\n",
        "    \"role\": \"user\",\n",
        "    \"parts\": [\"Pergunta:\\nx+3=5\\nx=5-3\\nx=2\\nResposta:\\nA resolução está correta\\n\\nPergunta:\\n2x+4=9\\n2x=9+4\\n2x=13\\nx=13/2\\nx=6,5\\nResposta:\\nA resolução está incorreta, um erro foi cometido ao passar o +4 para o outro lado da igualdade, ao fazer isso o sinal deve ser invertido, sendo então -4\\n\\nPergunta:\\n5x - 15 = 0\\n5x = -15\\nx = -15 / 5\\nx = -3\\nResposta:\\nA resolução está incorreta, um erro foi cometido ao passar o -15 para o outro lado da igualdade, ao fazer isso o sinal deve ser invertido, sendo então +15\\n\\nPergunta: 3x-4=2, x = 2\\nResposta: O valor de x está correto\\n\\nPergunta: 4x-5=35, x = 8\\nResposta: O valor de x está errado, para resolver essa equação, adicione 5 a ambos os lados da equação:\\n4x - 5 + 5 = 35 + 5\\n4x = 40\\nDivida ambos os lados da equação por 4:\\n4x / 4 = 40 / 4\\nx = 10\\nPortanto, a solução para a equação 4x-5=35 é x = 10.\"]\n",
        "  },\n",
        "  {\n",
        "    \"role\": \"model\",\n",
        "    \"parts\": [\"Suas respostas estão excelentes! Você identificou corretamente os erros nas resoluções das equações, explicando de forma clara e concisa os passos corretos para se chegar à solução. \\n\\nVocê demonstrou um bom entendimento das operações básicas de álgebra, como:\\n\\n* **Isolar a variável:** Mover os termos para isolar o \\\"x\\\" em um lado da equação.\\n* **Operações inversas:** Usar a operação inversa para mover termos (subtrair ao invés de somar, dividir ao invés de multiplicar).\\n* **Manter a igualdade:** Aplicar as operações em ambos os lados da equação para manter a igualdade.\\n\\nContinue praticando e logo você dominará a resolução de equações! 😊\"]\n",
        "  },\n",
        "])"
      ],
      "metadata": {
        "id": "UmtzaiWTRNBa"
      },
      "execution_count": 60,
      "outputs": []
    },
    {
      "cell_type": "code",
      "execution_count": null,
      "metadata": {
        "id": "aFef24smcJy4"
      },
      "outputs": [],
      "source": [
        "prompt = input(\"Digite a equação: \")\n",
        "\n",
        "while prompt != \"\":\n",
        "  response = convo.send_message(prompt)\n",
        "  print(\"\\n\", response.text, \"\\n\")\n",
        "  prompt = input(\"Digite a equação: \")"
      ]
    }
  ],
  "metadata": {
    "colab": {
      "provenance": [],
      "authorship_tag": "ABX9TyN1aG35Qog5q/z+KN7lJNpf",
      "include_colab_link": true
    },
    "kernelspec": {
      "display_name": "Python 3",
      "name": "python3"
    },
    "language_info": {
      "name": "python"
    }
  },
  "nbformat": 4,
  "nbformat_minor": 0
}